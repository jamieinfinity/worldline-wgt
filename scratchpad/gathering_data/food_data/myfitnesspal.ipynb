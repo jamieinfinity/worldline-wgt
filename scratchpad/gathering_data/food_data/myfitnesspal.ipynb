{
 "cells": [
  {
   "cell_type": "code",
   "execution_count": 1,
   "metadata": {
    "collapsed": true,
    "deletable": true,
    "editable": true
   },
   "outputs": [],
   "source": [
    "import myfitnesspal\n",
    "import datetime\n",
    "import json"
   ]
  },
  {
   "cell_type": "markdown",
   "metadata": {
    "deletable": true,
    "editable": true
   },
   "source": [
    "https://github.com/coddingtonbear/python-myfitnesspal"
   ]
  },
  {
   "cell_type": "code",
   "execution_count": 2,
   "metadata": {
    "collapsed": true,
    "deletable": true,
    "editable": true
   },
   "outputs": [],
   "source": [
    "client = myfitnesspal.Client('jamieinfinity')"
   ]
  },
  {
   "cell_type": "code",
   "execution_count": 3,
   "metadata": {
    "collapsed": false,
    "deletable": true,
    "editable": true,
    "scrolled": false
   },
   "outputs": [
    {
     "name": "stdout",
     "output_type": "stream",
     "text": [
      "2016-11-05\n",
      "2016-11-06\n",
      "2016-11-07\n",
      "2016-11-08\n",
      "2016-11-09\n",
      "2016-11-10\n",
      "2016-11-11\n",
      "2016-11-12\n",
      "2016-11-13\n",
      "2016-11-14\n",
      "2016-11-15\n",
      "2016-11-16\n",
      "2016-11-17\n",
      "2016-11-18\n",
      "2016-11-19\n",
      "2016-11-20\n",
      "2016-11-21\n",
      "2016-11-22\n",
      "2016-11-23\n",
      "2016-11-24\n",
      "2016-11-25\n",
      "2016-11-26\n",
      "2016-11-27\n",
      "2016-11-28\n",
      "2016-11-29\n",
      "2016-11-30\n",
      "2016-12-01\n",
      "2016-12-02\n",
      "2016-12-03\n",
      "2016-12-04\n",
      "2016-12-05\n",
      "2016-12-06\n",
      "2016-12-07\n",
      "2016-12-08\n",
      "2016-12-09\n",
      "2016-12-10\n",
      "2016-12-11\n",
      "2016-12-12\n",
      "2016-12-13\n",
      "2016-12-14\n",
      "2016-12-15\n",
      "2016-12-16\n",
      "2016-12-17\n",
      "2016-12-18\n",
      "2016-12-19\n",
      "2016-12-20\n",
      "2016-12-21\n",
      "2016-12-22\n",
      "2016-12-23\n",
      "2016-12-24\n",
      "2016-12-25\n"
     ]
    }
   ],
   "source": [
    "diary_dump = []\n",
    "date_query = datetime.date(2016, 11, 5)\n",
    "date_end = datetime.date.today()\n",
    "date_diff = date_end - date_query\n",
    "days = date_diff.days\n",
    "for i in range(days):\n",
    "    print(date_query.strftime('%Y-%m-%d'))    \n",
    "    diary_data = client.get_date(date_query)\n",
    "    diary_dump.append(diary_data)\n",
    "    date_query = date_query + datetime.timedelta(days=1)"
   ]
  },
  {
   "cell_type": "code",
   "execution_count": 4,
   "metadata": {
    "collapsed": false,
    "deletable": true,
    "editable": true
   },
   "outputs": [
    {
     "data": {
      "text/plain": [
       "51"
      ]
     },
     "execution_count": 4,
     "metadata": {},
     "output_type": "execute_result"
    }
   ],
   "source": [
    "len(diary_dump)"
   ]
  },
  {
   "cell_type": "code",
   "execution_count": 5,
   "metadata": {
    "collapsed": false,
    "deletable": true,
    "editable": true
   },
   "outputs": [],
   "source": [
    "diary_json = [{'date': x.date.strftime('%Y-%m-%d'), 'totals':x.totals, 'diary':x.get_as_dict()} for x in diary_dump]"
   ]
  },
  {
   "cell_type": "code",
   "execution_count": 9,
   "metadata": {
    "collapsed": false,
    "deletable": true,
    "editable": true,
    "scrolled": true
   },
   "outputs": [
    {
     "data": {
      "text/plain": [
       "{'date': '2016-11-04',\n",
       " 'diary': {'breakfast': [{'name': 'Think thin - Peanut Butter, 1 bar',\n",
       "    'nutrition_information': {'calories': 240,\n",
       "     'carbohydrates': 24,\n",
       "     'fat': 9,\n",
       "     'protein': 20,\n",
       "     'sodium': 240,\n",
       "     'sugar': 0}},\n",
       "   {'name': 'Horizon - Half N Half, 3 tbsp',\n",
       "    'nutrition_information': {'calories': 60,\n",
       "     'carbohydrates': 2,\n",
       "     'fat': 5,\n",
       "     'protein': 2,\n",
       "     'sodium': 23,\n",
       "     'sugar': 2}}],\n",
       "  'dinner': [{'name': \"Paisano's - Gyro, 1 gyro\",\n",
       "    'nutrition_information': {'calories': 593,\n",
       "     'carbohydrates': 74,\n",
       "     'fat': 12,\n",
       "     'protein': 44,\n",
       "     'sodium': 873,\n",
       "     'sugar': 0}},\n",
       "   {'name': 'Generic - Baklava, 0.66 pieces of  2\"x1.5\" (60g)',\n",
       "    'nutrition_information': {'calories': 220,\n",
       "     'carbohydrates': 19,\n",
       "     'fat': 15,\n",
       "     'protein': 3,\n",
       "     'sodium': 193,\n",
       "     'sugar': 7}},\n",
       "   {'name': 'Breton - Sesame Seed Crackers, 6 Crackers',\n",
       "    'nutrition_information': {'calories': 140,\n",
       "     'carbohydrates': 16,\n",
       "     'fat': 6,\n",
       "     'protein': 4,\n",
       "     'sodium': 170,\n",
       "     'sugar': 2}},\n",
       "   {'name': \"Wasa - Crisp'n Light 7 Grains, 2 Crackers\",\n",
       "    'nutrition_information': {'calories': 47,\n",
       "     'carbohydrates': 9,\n",
       "     'fat': 0,\n",
       "     'protein': 1,\n",
       "     'sodium': 60,\n",
       "     'sugar': 1}},\n",
       "   {'name': 'Layer Cake - Malbec Wine, 1 glass (5 fl oz)',\n",
       "    'nutrition_information': {'calories': 125,\n",
       "     'carbohydrates': 4,\n",
       "     'fat': 0,\n",
       "     'protein': 0,\n",
       "     'sodium': 10,\n",
       "     'sugar': 1}},\n",
       "   {'name': \"Generic - Manchego Cheese (Hard Sheep's Milk Cheese), 0.5 ounce\",\n",
       "    'nutrition_information': {'calories': 43,\n",
       "     'carbohydrates': 0,\n",
       "     'fat': 3,\n",
       "     'protein': 3,\n",
       "     'sodium': 71,\n",
       "     'sugar': 0}},\n",
       "   {'name': 'Pamelas Products - Whenever Bar Oat Chocolate Chip Coconut, 2 bar',\n",
       "    'nutrition_information': {'calories': 360,\n",
       "     'carbohydrates': 46,\n",
       "     'fat': 18,\n",
       "     'protein': 4,\n",
       "     'sodium': 260,\n",
       "     'sugar': 16}}],\n",
       "  'lunch': [{'name': 'Bumble Bee - Snack on the Run! Fat Free Tuna Salad with Wheat Crackers, 1 Package',\n",
       "    'nutrition_information': {'calories': 150,\n",
       "     'carbohydrates': 23,\n",
       "     'fat': 3,\n",
       "     'protein': 8,\n",
       "     'sodium': 10,\n",
       "     'sugar': 6}},\n",
       "   {'name': 'Eden Organic - Dry Roasted Pumpkin Seeds, 16.5 g',\n",
       "    'nutrition_information': {'calories': 100,\n",
       "     'carbohydrates': 3,\n",
       "     'fat': 8,\n",
       "     'protein': 5,\n",
       "     'sodium': 50,\n",
       "     'sugar': 0}}],\n",
       "  'snacks': [{'name': \"Wasa - Crisp'n Light 7 Grains, 2 Crackers\",\n",
       "    'nutrition_information': {'calories': 47,\n",
       "     'carbohydrates': 9,\n",
       "     'fat': 0,\n",
       "     'protein': 1,\n",
       "     'sodium': 60,\n",
       "     'sugar': 1}}]},\n",
       " 'totals': {'calories': 2125,\n",
       "  'carbohydrates': 229,\n",
       "  'fat': 79,\n",
       "  'protein': 95,\n",
       "  'sodium': 2020,\n",
       "  'sugar': 36}}"
      ]
     },
     "execution_count": 9,
     "metadata": {},
     "output_type": "execute_result"
    }
   ],
   "source": [
    "diary_json[-1]"
   ]
  },
  {
   "cell_type": "code",
   "execution_count": 6,
   "metadata": {
    "collapsed": true,
    "deletable": true,
    "editable": true
   },
   "outputs": [],
   "source": [
    "filename = 'myfitnesspaldata_11-05-2016_to_12-25-2016.json'\n",
    "\n",
    "with open(filename, 'w') as outfile:\n",
    "  json.dump(diary_json, outfile)"
   ]
  },
  {
   "cell_type": "code",
   "execution_count": null,
   "metadata": {
    "collapsed": true,
    "deletable": true,
    "editable": true
   },
   "outputs": [],
   "source": []
  }
 ],
 "metadata": {
  "anaconda-cloud": {},
  "kernelspec": {
   "display_name": "Python 3",
   "language": "python",
   "name": "python3"
  },
  "language_info": {
   "codemirror_mode": {
    "name": "ipython",
    "version": 3
   },
   "file_extension": ".py",
   "mimetype": "text/x-python",
   "name": "python",
   "nbconvert_exporter": "python",
   "pygments_lexer": "ipython3",
   "version": "3.5.3"
  }
 },
 "nbformat": 4,
 "nbformat_minor": 0
}
