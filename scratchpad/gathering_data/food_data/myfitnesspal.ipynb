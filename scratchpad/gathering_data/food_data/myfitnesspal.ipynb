{
 "cells": [
  {
   "cell_type": "code",
   "execution_count": 1,
   "metadata": {
    "collapsed": true,
    "deletable": true,
    "editable": true
   },
   "outputs": [],
   "source": [
    "import myfitnesspal\n",
    "import datetime\n",
    "import json"
   ]
  },
  {
   "cell_type": "markdown",
   "metadata": {
    "deletable": true,
    "editable": true
   },
   "source": [
    "https://github.com/coddingtonbear/python-myfitnesspal"
   ]
  },
  {
   "cell_type": "code",
   "execution_count": 2,
   "metadata": {
    "collapsed": true,
    "deletable": true,
    "editable": true
   },
   "outputs": [],
   "source": [
    "client = myfitnesspal.Client('jamieinfinity')"
   ]
  },
  {
   "cell_type": "code",
   "execution_count": 3,
   "metadata": {
    "collapsed": false,
    "deletable": true,
    "editable": true,
    "scrolled": true
   },
   "outputs": [
    {
     "name": "stdout",
     "output_type": "stream",
     "text": [
      "2016-12-26\n",
      "2016-12-27\n",
      "2016-12-28\n",
      "2016-12-29\n",
      "2016-12-30\n",
      "2016-12-31\n",
      "2017-01-01\n",
      "2017-01-02\n",
      "2017-01-03\n",
      "2017-01-04\n",
      "2017-01-05\n",
      "2017-01-06\n",
      "2017-01-07\n",
      "2017-01-08\n",
      "2017-01-09\n",
      "2017-01-10\n",
      "2017-01-11\n",
      "2017-01-12\n",
      "2017-01-13\n",
      "2017-01-14\n",
      "2017-01-15\n",
      "2017-01-16\n",
      "2017-01-17\n",
      "2017-01-18\n",
      "2017-01-19\n",
      "2017-01-20\n",
      "2017-01-21\n",
      "2017-01-22\n",
      "2017-01-23\n",
      "2017-01-24\n",
      "2017-01-25\n",
      "2017-01-26\n",
      "2017-01-27\n",
      "2017-01-28\n",
      "2017-01-29\n",
      "2017-01-30\n",
      "2017-01-31\n",
      "2017-02-01\n",
      "2017-02-02\n",
      "2017-02-03\n",
      "2017-02-04\n",
      "2017-02-05\n",
      "2017-02-06\n",
      "2017-02-07\n",
      "2017-02-08\n",
      "2017-02-09\n",
      "2017-02-10\n",
      "2017-02-11\n",
      "2017-02-12\n",
      "2017-02-13\n",
      "2017-02-14\n",
      "2017-02-15\n",
      "2017-02-16\n",
      "2017-02-17\n",
      "2017-02-18\n",
      "2017-02-19\n",
      "2017-02-20\n",
      "2017-02-21\n",
      "2017-02-22\n",
      "2017-02-23\n",
      "2017-02-24\n",
      "2017-02-25\n",
      "2017-02-26\n",
      "2017-02-27\n",
      "2017-02-28\n",
      "2017-03-01\n",
      "2017-03-02\n",
      "2017-03-03\n",
      "2017-03-04\n",
      "2017-03-05\n",
      "2017-03-06\n",
      "2017-03-07\n",
      "2017-03-08\n",
      "2017-03-09\n",
      "2017-03-10\n",
      "2017-03-11\n",
      "2017-03-12\n",
      "2017-03-13\n",
      "2017-03-14\n",
      "2017-03-15\n",
      "2017-03-16\n",
      "2017-03-17\n",
      "2017-03-18\n",
      "2017-03-19\n",
      "2017-03-20\n",
      "2017-03-21\n",
      "2017-03-22\n",
      "2017-03-23\n",
      "2017-03-24\n",
      "2017-03-25\n",
      "2017-03-26\n"
     ]
    }
   ],
   "source": [
    "diary_dump = []\n",
    "date_start = datetime.date(2016, 12, 26)\n",
    "date_query = date_start.copy()\n",
    "date_end = datetime.date.today()\n",
    "date_diff = date_end - date_query\n",
    "days = date_diff.days\n",
    "for i in range(days):\n",
    "    print(date_query.strftime('%Y-%m-%d'))    \n",
    "    diary_data = client.get_date(date_query)\n",
    "    diary_dump.append(diary_data)\n",
    "    date_query = date_query + datetime.timedelta(days=1)"
   ]
  },
  {
   "cell_type": "code",
   "execution_count": 4,
   "metadata": {
    "collapsed": false,
    "deletable": true,
    "editable": true
   },
   "outputs": [
    {
     "data": {
      "text/plain": [
       "91"
      ]
     },
     "execution_count": 4,
     "metadata": {},
     "output_type": "execute_result"
    }
   ],
   "source": [
    "len(diary_dump)"
   ]
  },
  {
   "cell_type": "code",
   "execution_count": 5,
   "metadata": {
    "collapsed": false,
    "deletable": true,
    "editable": true
   },
   "outputs": [],
   "source": [
    "diary_json = [{'date': x.date.strftime('%Y-%m-%d'), 'totals':x.totals, 'diary':x.get_as_dict()} for x in diary_dump]"
   ]
  },
  {
   "cell_type": "code",
   "execution_count": 6,
   "metadata": {
    "collapsed": false,
    "deletable": true,
    "editable": true,
    "scrolled": true
   },
   "outputs": [
    {
     "data": {
      "text/plain": [
       "{'date': '2017-03-26',\n",
       " 'diary': {'breakfast': [{'name': 'Horizon - Half N Half, 3 tbsp',\n",
       "    'nutrition_information': {'calories': 60,\n",
       "     'carbohydrates': 2,\n",
       "     'fat': 5,\n",
       "     'protein': 2,\n",
       "     'sodium': 23,\n",
       "     'sugar': 2}},\n",
       "   {'name': 'Fage - Total Greek Yogart, 0.8 Cup',\n",
       "    'nutrition_information': {'calories': 176,\n",
       "     'carbohydrates': 7,\n",
       "     'fat': 9,\n",
       "     'protein': 16,\n",
       "     'sodium': 64,\n",
       "     'sugar': 7}},\n",
       "   {'name': 'Whole Foods - 365 Brand Roasted & Salted Cashews, 0.6 cup',\n",
       "    'nutrition_information': {'calories': 384,\n",
       "     'carbohydrates': 22,\n",
       "     'fat': 34,\n",
       "     'protein': 12,\n",
       "     'sodium': 204,\n",
       "     'sugar': 2}}],\n",
       "  'dinner': [{'name': 'Avocado - Avocado, 0.75 medium',\n",
       "    'nutrition_information': {'calories': 176,\n",
       "     'carbohydrates': 9,\n",
       "     'fat': 16,\n",
       "     'protein': 2,\n",
       "     'sodium': 8,\n",
       "     'sugar': 1}},\n",
       "   {'name': \"Nature's Rancher - Boneless & Skinless With Rib Meat, Grilled Chicken Strips, 4 oz\",\n",
       "    'nutrition_information': {'calories': 160,\n",
       "     'carbohydrates': 3,\n",
       "     'fat': 3,\n",
       "     'protein': 28,\n",
       "     'sodium': 280,\n",
       "     'sugar': 1}},\n",
       "   {'name': 'Basic Hummus 2 - .5 Cup srv , 1 serving(s)',\n",
       "    'nutrition_information': {'calories': 290,\n",
       "     'carbohydrates': 16,\n",
       "     'fat': 23,\n",
       "     'protein': 9,\n",
       "     'sodium': 30,\n",
       "     'sugar': 1}},\n",
       "   {'name': 'Whole Foods 365 - Feta Cheese Crumbles Vegetarian, 1.6 oz',\n",
       "    'nutrition_information': {'calories': 112,\n",
       "     'carbohydrates': 3,\n",
       "     'fat': 6,\n",
       "     'protein': 10,\n",
       "     'sodium': 544,\n",
       "     'sugar': 2}},\n",
       "   {'name': 'Carrots, raw, 1 medium',\n",
       "    'nutrition_information': {'calories': 25,\n",
       "     'carbohydrates': 6,\n",
       "     'fat': 0,\n",
       "     'protein': 1,\n",
       "     'sodium': 42,\n",
       "     'sugar': 3}},\n",
       "   {'name': 'Celery, raw, 1 stalk, large (11\"-12\" long)',\n",
       "    'nutrition_information': {'calories': 10,\n",
       "     'carbohydrates': 2,\n",
       "     'fat': 0,\n",
       "     'protein': 0,\n",
       "     'sodium': 51,\n",
       "     'sugar': 1}},\n",
       "   {'name': \"Trader Joe's - Trader Giotto's Sicilian Selezion Extra Virgin Olive Oil, 0.5 tbsp\",\n",
       "    'nutrition_information': {'calories': 60,\n",
       "     'carbohydrates': 0,\n",
       "     'fat': 7,\n",
       "     'protein': 0,\n",
       "     'sodium': 0,\n",
       "     'sugar': 0}},\n",
       "   {'name': 'Coconut Almond Butter , 3.1 serving(s)',\n",
       "    'nutrition_information': {'calories': 313,\n",
       "     'carbohydrates': 6,\n",
       "     'fat': 31,\n",
       "     'protein': 6,\n",
       "     'sodium': 90,\n",
       "     'sugar': 2}}],\n",
       "  'lunch': [],\n",
       "  'snacks': [{'name': 'Manchego - Cheese, 1.1 oz',\n",
       "    'nutrition_information': {'calories': 132,\n",
       "     'carbohydrates': 2,\n",
       "     'fat': 11,\n",
       "     'protein': 8,\n",
       "     'sodium': 187,\n",
       "     'sugar': 0}}]},\n",
       " 'totals': {'calories': 1898,\n",
       "  'carbohydrates': 78,\n",
       "  'fat': 145,\n",
       "  'protein': 94,\n",
       "  'sodium': 1523,\n",
       "  'sugar': 22}}"
      ]
     },
     "execution_count": 6,
     "metadata": {},
     "output_type": "execute_result"
    }
   ],
   "source": [
    "diary_json[-1]"
   ]
  },
  {
   "cell_type": "code",
   "execution_count": 11,
   "metadata": {
    "collapsed": true,
    "deletable": true,
    "editable": true
   },
   "outputs": [],
   "source": [
    "filename = 'myfitnesspaldata_'+date_start.strftime('%Y-%m-%d')+'_to_'+date_end.strftime('%Y-%m-%d')+'.json'\n",
    "\n",
    "with open(filename, 'w') as outfile:\n",
    "  json.dump(diary_json, outfile)"
   ]
  },
  {
   "cell_type": "code",
   "execution_count": null,
   "metadata": {
    "collapsed": true
   },
   "outputs": [],
   "source": []
  }
 ],
 "metadata": {
  "anaconda-cloud": {},
  "kernelspec": {
   "display_name": "Python 3",
   "language": "python",
   "name": "python3"
  },
  "language_info": {
   "codemirror_mode": {
    "name": "ipython",
    "version": 3
   },
   "file_extension": ".py",
   "mimetype": "text/x-python",
   "name": "python",
   "nbconvert_exporter": "python",
   "pygments_lexer": "ipython3",
   "version": "3.5.3"
  }
 },
 "nbformat": 4,
 "nbformat_minor": 0
}
