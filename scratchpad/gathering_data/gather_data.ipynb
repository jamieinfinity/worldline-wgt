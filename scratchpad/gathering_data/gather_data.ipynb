{
 "cells": [
  {
   "cell_type": "code",
   "execution_count": 14,
   "metadata": {
    "collapsed": true
   },
   "outputs": [],
   "source": [
    "import datetime\n",
    "import pandas as pd\n",
    "import sqlite3\n",
    "import shutil"
   ]
  },
  {
   "cell_type": "code",
   "execution_count": 5,
   "metadata": {
    "collapsed": true
   },
   "outputs": [],
   "source": [
    "base_dir = './_Data/'\n",
    "file_name = base_dir + 'SEED_wgt_steps_cals_2013-01-01_to_2016-12-25.csv'\n",
    "seed_df = pd.read_csv(file_name, parse_dates=['Date'])\n",
    "seed_df.drop(['CaloriesOut', 'CaloriesBMR', 'CaloriesActivity'], axis=1, inplace=True)"
   ]
  },
  {
   "cell_type": "code",
   "execution_count": 6,
   "metadata": {},
   "outputs": [
    {
     "data": {
      "text/plain": [
       "Weight             float64\n",
       "Date        datetime64[ns]\n",
       "Steps              float64\n",
       "Calories           float64\n",
       "dtype: object"
      ]
     },
     "execution_count": 6,
     "metadata": {},
     "output_type": "execute_result"
    }
   ],
   "source": [
    "seed_df.dtypes"
   ]
  },
  {
   "cell_type": "code",
   "execution_count": 7,
   "metadata": {},
   "outputs": [
    {
     "data": {
      "text/html": [
       "<div>\n",
       "<table border=\"1\" class=\"dataframe\">\n",
       "  <thead>\n",
       "    <tr style=\"text-align: right;\">\n",
       "      <th></th>\n",
       "      <th>Weight</th>\n",
       "      <th>Date</th>\n",
       "      <th>Steps</th>\n",
       "      <th>Calories</th>\n",
       "    </tr>\n",
       "  </thead>\n",
       "  <tbody>\n",
       "    <tr>\n",
       "      <th>1541</th>\n",
       "      <td>166.7</td>\n",
       "      <td>2017-03-22</td>\n",
       "      <td>16043.0</td>\n",
       "      <td>2056.0</td>\n",
       "    </tr>\n",
       "    <tr>\n",
       "      <th>1542</th>\n",
       "      <td>165.3</td>\n",
       "      <td>2017-03-23</td>\n",
       "      <td>7261.0</td>\n",
       "      <td>2266.0</td>\n",
       "    </tr>\n",
       "    <tr>\n",
       "      <th>1543</th>\n",
       "      <td>165.6</td>\n",
       "      <td>2017-03-24</td>\n",
       "      <td>14167.0</td>\n",
       "      <td>1934.0</td>\n",
       "    </tr>\n",
       "    <tr>\n",
       "      <th>1544</th>\n",
       "      <td>164.5</td>\n",
       "      <td>2017-03-25</td>\n",
       "      <td>14311.0</td>\n",
       "      <td>2037.0</td>\n",
       "    </tr>\n",
       "    <tr>\n",
       "      <th>1545</th>\n",
       "      <td>167.1</td>\n",
       "      <td>2017-03-26</td>\n",
       "      <td>5824.0</td>\n",
       "      <td>1898.0</td>\n",
       "    </tr>\n",
       "  </tbody>\n",
       "</table>\n",
       "</div>"
      ],
      "text/plain": [
       "      Weight       Date    Steps  Calories\n",
       "1541   166.7 2017-03-22  16043.0    2056.0\n",
       "1542   165.3 2017-03-23   7261.0    2266.0\n",
       "1543   165.6 2017-03-24  14167.0    1934.0\n",
       "1544   164.5 2017-03-25  14311.0    2037.0\n",
       "1545   167.1 2017-03-26   5824.0    1898.0"
      ]
     },
     "execution_count": 7,
     "metadata": {},
     "output_type": "execute_result"
    }
   ],
   "source": [
    "seed_df.tail(5)"
   ]
  },
  {
   "cell_type": "code",
   "execution_count": 8,
   "metadata": {
    "collapsed": true
   },
   "outputs": [],
   "source": [
    "conn = sqlite3.connect(\"worldline.db\")"
   ]
  },
  {
   "cell_type": "code",
   "execution_count": 9,
   "metadata": {
    "collapsed": true
   },
   "outputs": [],
   "source": [
    "pd.io.sql.to_sql(seed_df, 'fitness', conn, if_exists='replace')"
   ]
  },
  {
   "cell_type": "code",
   "execution_count": 10,
   "metadata": {
    "collapsed": true
   },
   "outputs": [],
   "source": [
    "test = pd.io.sql.read_sql_table('fitness', 'sqlite:///worldline.db', index_col='index', parse_dates=['Date'])"
   ]
  },
  {
   "cell_type": "code",
   "execution_count": 11,
   "metadata": {},
   "outputs": [
    {
     "data": {
      "text/plain": [
       "Weight             float64\n",
       "Date        datetime64[ns]\n",
       "Steps              float64\n",
       "Calories           float64\n",
       "dtype: object"
      ]
     },
     "execution_count": 11,
     "metadata": {},
     "output_type": "execute_result"
    }
   ],
   "source": [
    "test.dtypes"
   ]
  },
  {
   "cell_type": "code",
   "execution_count": 16,
   "metadata": {
    "collapsed": true
   },
   "outputs": [],
   "source": [
    "def copy_file(src, dest):\n",
    "    try:\n",
    "        shutil.copy(src, dest)\n",
    "    # eg. src and dest are the same file\n",
    "    except shutil.Error as e:\n",
    "        print('Error: %s' % e)\n",
    "    # eg. source or destination doesn't exist\n",
    "    except IOError as e:\n",
    "        print('Error: %s' % e.strerror)"
   ]
  },
  {
   "cell_type": "code",
   "execution_count": 32,
   "metadata": {
    "collapsed": true
   },
   "outputs": [],
   "source": [
    "timestamp=datetime.datetime.today().strftime('%Y-%m-%d-%H-%M-%S')\n",
    "file_root = 'worldline'\n",
    "file_ext = '.db'\n",
    "database_file = file_root + file_ext\n",
    "backup_file = file_root + '_BACKUP_'+ timestamp + file_ext"
   ]
  },
  {
   "cell_type": "code",
   "execution_count": 34,
   "metadata": {},
   "outputs": [
    {
     "data": {
      "text/plain": [
       "'worldline.db'"
      ]
     },
     "execution_count": 34,
     "metadata": {},
     "output_type": "execute_result"
    }
   ],
   "source": [
    "database_file"
   ]
  },
  {
   "cell_type": "code",
   "execution_count": 35,
   "metadata": {
    "collapsed": true
   },
   "outputs": [],
   "source": [
    "copy_file(database_file, backup_file)"
   ]
  },
  {
   "cell_type": "code",
   "execution_count": null,
   "metadata": {
    "collapsed": true
   },
   "outputs": [],
   "source": []
  }
 ],
 "metadata": {
  "kernelspec": {
   "display_name": "Python [conda env:py27]",
   "language": "python",
   "name": "conda-env-py27-py"
  },
  "language_info": {
   "codemirror_mode": {
    "name": "ipython",
    "version": 2
   },
   "file_extension": ".py",
   "mimetype": "text/x-python",
   "name": "python",
   "nbconvert_exporter": "python",
   "pygments_lexer": "ipython2",
   "version": "2.7.13"
  }
 },
 "nbformat": 4,
 "nbformat_minor": 2
}
