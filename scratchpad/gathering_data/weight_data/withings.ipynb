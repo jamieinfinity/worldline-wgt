{
 "cells": [
  {
   "cell_type": "code",
   "execution_count": 111,
   "metadata": {
    "collapsed": true,
    "deletable": true,
    "editable": true
   },
   "outputs": [],
   "source": [
    "from withings import WithingsAuth, WithingsApi\n",
    "import ConfigParser\n",
    "import datetime\n",
    "import json"
   ]
  },
  {
   "cell_type": "code",
   "execution_count": 2,
   "metadata": {
    "collapsed": true,
    "deletable": true,
    "editable": true
   },
   "outputs": [],
   "source": [
    "parser = ConfigParser.SafeConfigParser()\n",
    "parser.read('../api_params.cfg')\n",
    "consumer_key = parser.get('withings', 'consumer_key')\n",
    "consumer_secret = parser.get('withings', 'consumer_secret')"
   ]
  },
  {
   "cell_type": "code",
   "execution_count": null,
   "metadata": {
    "collapsed": false,
    "deletable": true,
    "editable": true
   },
   "outputs": [],
   "source": [
    "auth = WithingsAuth(consumer_key, consumer_secret)\n",
    "authorize_url = auth.get_authorize_url()\n",
    "print \"Go to %s allow the app and copy your oauth_verifier\" % authorize_url"
   ]
  },
  {
   "cell_type": "code",
   "execution_count": null,
   "metadata": {
    "collapsed": false,
    "deletable": true,
    "editable": true
   },
   "outputs": [],
   "source": [
    "oauth_verifier = raw_input('Please enter your oauth_verifier: ')\n",
    "creds = auth.get_credentials(oauth_verifier)"
   ]
  },
  {
   "cell_type": "code",
   "execution_count": null,
   "metadata": {
    "collapsed": false,
    "deletable": true,
    "editable": true
   },
   "outputs": [],
   "source": [
    "client = WithingsApi(creds)\n",
    "measures = client.get_measures(limit=10)\n",
    "print \"Your last measured weight: %skg\" % measures[0].weight "
   ]
  },
  {
   "cell_type": "code",
   "execution_count": 69,
   "metadata": {
    "collapsed": true,
    "deletable": true,
    "editable": true
   },
   "outputs": [],
   "source": [
    "date_start = datetime.date(2016, 12, 26)\n",
    "date_end = datetime.date.today()\n",
    "date_diff = date_end - date_start\n",
    "days = date_diff.days + 2"
   ]
  },
  {
   "cell_type": "code",
   "execution_count": 101,
   "metadata": {
    "collapsed": false,
    "deletable": true,
    "editable": true
   },
   "outputs": [],
   "source": [
    "measures = client.get_measures(meastype=1, limit=days)"
   ]
  },
  {
   "cell_type": "code",
   "execution_count": 126,
   "metadata": {
    "collapsed": false,
    "deletable": true,
    "editable": true
   },
   "outputs": [],
   "source": [
    "weight_json = [{'weight':(float(\"{:.1f}\".format(x.weight*2.20462))), 'date':x.date.strftime('%Y-%m-%d')} for x in measures]"
   ]
  },
  {
   "cell_type": "code",
   "execution_count": 127,
   "metadata": {
    "collapsed": false,
    "deletable": true,
    "editable": true,
    "scrolled": true
   },
   "outputs": [
    {
     "data": {
      "text/plain": [
       "[{'date': '2017-03-27', 'weight': 167.4},\n",
       " {'date': '2017-03-26', 'weight': 167.1},\n",
       " {'date': '2017-03-25', 'weight': 164.5},\n",
       " {'date': '2017-03-24', 'weight': 165.6},\n",
       " {'date': '2017-03-23', 'weight': 165.3},\n",
       " {'date': '2017-03-22', 'weight': 166.7},\n",
       " {'date': '2017-03-21', 'weight': 166.1},\n",
       " {'date': '2017-03-20', 'weight': 166.5},\n",
       " {'date': '2017-03-19', 'weight': 167.4},\n",
       " {'date': '2017-03-18', 'weight': 166.4},\n",
       " {'date': '2017-03-17', 'weight': 168.8},\n",
       " {'date': '2017-03-16', 'weight': 168.3},\n",
       " {'date': '2017-03-15', 'weight': 168.0},\n",
       " {'date': '2017-03-14', 'weight': 168.6},\n",
       " {'date': '2017-03-13', 'weight': 170.2},\n",
       " {'date': '2017-03-12', 'weight': 170.5},\n",
       " {'date': '2017-03-11', 'weight': 169.8},\n",
       " {'date': '2017-03-10', 'weight': 169.1},\n",
       " {'date': '2017-03-09', 'weight': 169.4},\n",
       " {'date': '2017-03-08', 'weight': 170.0},\n",
       " {'date': '2017-03-07', 'weight': 171.5},\n",
       " {'date': '2017-03-06', 'weight': 170.8},\n",
       " {'date': '2017-03-06', 'weight': 171.1},\n",
       " {'date': '2017-03-05', 'weight': 168.3},\n",
       " {'date': '2017-03-04', 'weight': 170.2},\n",
       " {'date': '2017-03-04', 'weight': 170.0},\n",
       " {'date': '2017-03-03', 'weight': 169.3},\n",
       " {'date': '2017-03-02', 'weight': 170.1},\n",
       " {'date': '2017-03-01', 'weight': 171.9},\n",
       " {'date': '2017-02-28', 'weight': 169.5},\n",
       " {'date': '2017-02-27', 'weight': 170.4},\n",
       " {'date': '2017-02-26', 'weight': 169.8},\n",
       " {'date': '2017-02-25', 'weight': 169.2},\n",
       " {'date': '2017-02-24', 'weight': 167.8},\n",
       " {'date': '2017-02-23', 'weight': 168.5},\n",
       " {'date': '2017-02-22', 'weight': 168.5},\n",
       " {'date': '2017-02-21', 'weight': 168.0},\n",
       " {'date': '2017-02-20', 'weight': 168.6},\n",
       " {'date': '2017-02-19', 'weight': 169.7},\n",
       " {'date': '2017-02-18', 'weight': 167.7},\n",
       " {'date': '2017-02-17', 'weight': 167.4},\n",
       " {'date': '2017-02-16', 'weight': 168.3},\n",
       " {'date': '2017-02-15', 'weight': 167.5},\n",
       " {'date': '2017-02-14', 'weight': 168.4},\n",
       " {'date': '2017-02-13', 'weight': 167.8},\n",
       " {'date': '2017-02-12', 'weight': 167.7},\n",
       " {'date': '2017-02-11', 'weight': 165.6},\n",
       " {'date': '2017-02-10', 'weight': 167.6},\n",
       " {'date': '2017-02-09', 'weight': 166.9},\n",
       " {'date': '2017-02-08', 'weight': 167.0},\n",
       " {'date': '2017-02-07', 'weight': 167.3},\n",
       " {'date': '2017-02-06', 'weight': 168.1},\n",
       " {'date': '2017-02-05', 'weight': 167.5},\n",
       " {'date': '2017-02-04', 'weight': 166.5},\n",
       " {'date': '2017-02-03', 'weight': 166.6},\n",
       " {'date': '2017-02-02', 'weight': 166.0},\n",
       " {'date': '2017-02-01', 'weight': 167.1},\n",
       " {'date': '2017-01-31', 'weight': 165.2},\n",
       " {'date': '2017-01-30', 'weight': 165.8},\n",
       " {'date': '2017-01-29', 'weight': 165.8},\n",
       " {'date': '2017-01-28', 'weight': 164.8},\n",
       " {'date': '2017-01-27', 'weight': 165.3},\n",
       " {'date': '2017-01-26', 'weight': 166.5},\n",
       " {'date': '2017-01-25', 'weight': 167.5},\n",
       " {'date': '2017-01-23', 'weight': 165.0},\n",
       " {'date': '2017-01-22', 'weight': 167.1},\n",
       " {'date': '2017-01-21', 'weight': 167.0},\n",
       " {'date': '2017-01-20', 'weight': 166.3},\n",
       " {'date': '2017-01-19', 'weight': 165.9},\n",
       " {'date': '2017-01-18', 'weight': 164.0},\n",
       " {'date': '2017-01-17', 'weight': 164.2},\n",
       " {'date': '2017-01-16', 'weight': 165.9},\n",
       " {'date': '2017-01-15', 'weight': 166.3},\n",
       " {'date': '2017-01-14', 'weight': 164.9},\n",
       " {'date': '2017-01-13', 'weight': 165.2},\n",
       " {'date': '2017-01-12', 'weight': 165.3},\n",
       " {'date': '2017-01-11', 'weight': 164.0},\n",
       " {'date': '2017-01-10', 'weight': 164.9},\n",
       " {'date': '2017-01-09', 'weight': 165.4},\n",
       " {'date': '2017-01-08', 'weight': 164.6},\n",
       " {'date': '2017-01-07', 'weight': 163.9},\n",
       " {'date': '2017-01-06', 'weight': 164.4},\n",
       " {'date': '2017-01-05', 'weight': 165.0},\n",
       " {'date': '2017-01-04', 'weight': 164.7},\n",
       " {'date': '2017-01-03', 'weight': 164.5},\n",
       " {'date': '2017-01-02', 'weight': 165.1},\n",
       " {'date': '2017-01-01', 'weight': 163.5},\n",
       " {'date': '2016-12-31', 'weight': 164.8},\n",
       " {'date': '2016-12-30', 'weight': 166.5},\n",
       " {'date': '2016-12-29', 'weight': 166.1},\n",
       " {'date': '2016-12-28', 'weight': 165.7},\n",
       " {'date': '2016-12-27', 'weight': 165.2},\n",
       " {'date': '2016-12-26', 'weight': 164.5}]"
      ]
     },
     "execution_count": 127,
     "metadata": {},
     "output_type": "execute_result"
    }
   ],
   "source": [
    "weight_json"
   ]
  },
  {
   "cell_type": "code",
   "execution_count": 129,
   "metadata": {
    "collapsed": false,
    "deletable": true,
    "editable": true
   },
   "outputs": [],
   "source": [
    "filename = 'withings_weight_'+date_start.strftime('%Y-%m-%d')+'_to_'+date_end.strftime('%Y-%m-%d')+'.json'\n",
    "\n",
    "with open(filename, 'w') as outfile:\n",
    "  json.dump(weight_json, outfile)"
   ]
  },
  {
   "cell_type": "code",
   "execution_count": null,
   "metadata": {
    "collapsed": true,
    "deletable": true,
    "editable": true
   },
   "outputs": [],
   "source": []
  },
  {
   "cell_type": "code",
   "execution_count": null,
   "metadata": {
    "collapsed": true,
    "deletable": true,
    "editable": true
   },
   "outputs": [],
   "source": []
  },
  {
   "cell_type": "code",
   "execution_count": null,
   "metadata": {
    "collapsed": true,
    "deletable": true,
    "editable": true
   },
   "outputs": [],
   "source": []
  }
 ],
 "metadata": {
  "kernelspec": {
   "display_name": "Python [default]",
   "language": "python",
   "name": "python2"
  },
  "language_info": {
   "codemirror_mode": {
    "name": "ipython",
    "version": 2
   },
   "file_extension": ".py",
   "mimetype": "text/x-python",
   "name": "python",
   "nbconvert_exporter": "python",
   "pygments_lexer": "ipython2",
   "version": "2.7.13"
  }
 },
 "nbformat": 4,
 "nbformat_minor": 0
}
