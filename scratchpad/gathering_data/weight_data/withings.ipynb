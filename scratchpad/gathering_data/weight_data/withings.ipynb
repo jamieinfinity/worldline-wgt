{
 "cells": [
  {
   "cell_type": "code",
   "execution_count": null,
   "metadata": {
    "collapsed": false,
    "deletable": true,
    "editable": true
   },
   "outputs": [],
   "source": [
    "import csv\n",
    "import numpy as np\n",
    "import matplotlib.pyplot as pyplot\n",
    "import matplotlib.dates as mdates\n",
    "%pylab inline\n",
    "import dateutil.parser\n",
    "import datetime as dt"
   ]
  },
  {
   "cell_type": "code",
   "execution_count": null,
   "metadata": {
    "collapsed": false,
    "deletable": true,
    "editable": true
   },
   "outputs": [],
   "source": [
    "withingsList=[]\n",
    "with open('../Data/Withings.csv', 'r') as f:\n",
    "    reader = csv.reader(f)\n",
    "    for row in reader:\n",
    "        withingsList.append(row)\n",
    "        \n",
    "withingsArray = np.array(withingsList)\n",
    "lastIndex=21\n",
    "dates = withingsArray[1:-lastIndex,0]\n",
    "bpSys = withingsArray[1:-lastIndex,1]\n",
    "bpDia = withingsArray[1:-lastIndex,2]\n",
    "hr = withingsArray[1:-lastIndex,3]"
   ]
  },
  {
   "cell_type": "code",
   "execution_count": null,
   "metadata": {
    "collapsed": false,
    "deletable": true,
    "editable": true
   },
   "outputs": [],
   "source": [
    "t = [dt.datetime.strptime(d,'%Y-%m-%d %H:%M:%S').date() for d in dates]\n",
    "\n",
    "pyplot.gca().xaxis.set_major_formatter(mdates.DateFormatter('%m/%d/%Y'))\n",
    "pyplot.gca().xaxis.set_major_locator(mdates.WeekdayLocator(byweekday=MO, interval=1))\n",
    "pyplot.plot(t, hr)\n",
    "\n",
    "fig = pyplot.gcf()\n",
    "fig.autofmt_xdate()\n",
    "fig.set_size_inches(12,6)"
   ]
  },
  {
   "cell_type": "code",
   "execution_count": null,
   "metadata": {
    "collapsed": false,
    "deletable": true,
    "editable": true
   },
   "outputs": [],
   "source": [
    "t = [dt.datetime.strptime(d,'%Y-%m-%d %H:%M:%S').date() for d in dates]\n",
    "y1 = map(lambda x: float(x), bpSys.tolist())\n",
    "y2 = map(lambda x: float(x), bpDia.tolist())\n",
    "\n",
    "pyplot.gca().xaxis.set_major_formatter(mdates.DateFormatter('%m/%d/%Y'))\n",
    "pyplot.gca().xaxis.set_major_locator(mdates.WeekdayLocator(byweekday=MO, interval=1))\n",
    "pyplot.plot(t, y1, t, y2)\n",
    "\n",
    "ax = pyplot.gca()\n",
    "ax.fill_between(t, y1, y2, facecolor='lightgray')\n",
    "\n",
    "fig = pyplot.gcf()\n",
    "fig.autofmt_xdate()\n",
    "fig.set_size_inches(12,6)"
   ]
  }
 ],
 "metadata": {
  "kernelspec": {
   "display_name": "Python [default]",
   "language": "python",
   "name": "python2"
  },
  "language_info": {
   "codemirror_mode": {
    "name": "ipython",
    "version": 2
   },
   "file_extension": ".py",
   "mimetype": "text/x-python",
   "name": "python",
   "nbconvert_exporter": "python",
   "pygments_lexer": "ipython2",
   "version": "2.7.13"
  }
 },
 "nbformat": 4,
 "nbformat_minor": 0
}
